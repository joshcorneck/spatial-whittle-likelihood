{
 "cells": [
  {
   "cell_type": "code",
   "execution_count": 14,
   "metadata": {},
   "outputs": [],
   "source": [
    "import sys\n",
    "import os\n",
    "\n",
    "# Add to path for imports\n",
    "sys.path.insert(0, \"../../src/\")\n",
    "\n",
    "# My module imports\n",
    "from simulation_methods.spatial_pp import SPP_HomPoisson, SPP_Thomas, SPP_LGCP\n",
    "from periodogram_methods.periodogram import Periodogram\n",
    "\n",
    "# External module imports\n",
    "import numpy as np\n",
    "from gstools import Exponential"
   ]
  },
  {
   "cell_type": "markdown",
   "metadata": {},
   "source": [
    "# Bartlett Periodogram plots - <font color='red'>untapered </font> "
   ]
  },
  {
   "cell_type": "markdown",
   "metadata": {},
   "source": [
    "## Poisson process"
   ]
  },
  {
   "cell_type": "code",
   "execution_count": 13,
   "metadata": {},
   "outputs": [
    {
     "name": "stdout",
     "output_type": "stream",
     "text": [
      "Simulating HPP...\n",
      "Iteration: 1 of 1000\n",
      "Iteration: 101 of 1000\n",
      "Iteration: 201 of 1000\n",
      "Iteration: 301 of 1000\n",
      "Iteration: 401 of 1000\n",
      "Iteration: 501 of 1000\n",
      "Iteration: 601 of 1000\n",
      "Iteration: 701 of 1000\n",
      "Iteration: 801 of 1000\n",
      "Iteration: 901 of 1000\n",
      "Computing periodograms...\n",
      "Iteration: 1 of 1000\n",
      "Iteration: 101 of 1000\n",
      "Iteration: 201 of 1000\n",
      "Iteration: 301 of 1000\n",
      "Iteration: 401 of 1000\n",
      "Iteration: 501 of 1000\n",
      "Iteration: 601 of 1000\n",
      "Iteration: 701 of 1000\n",
      "Iteration: 801 of 1000\n",
      "Iteration: 901 of 1000\n"
     ]
    },
    {
     "data": {
      "image/png": "[encoded data removed]",
      "text/plain": [
       "<Figure size 640x480 with 2 Axes>"
      ]
     },
     "metadata": {},
     "output_type": "display_data"
    }
   ],
   "source": [
    "# Instantiate Homogeneous Poisson class (default on [-1/2,1/2]^2)\n",
    "pois = SPP_HomPoisson()\n",
    "\n",
    "# Simulate 1000 realisations of the Poisson process\n",
    "lambda_hom = 500\n",
    "pois_spps = []\n",
    "print(\"Simulating HPP...\")\n",
    "for i in range(1000):\n",
    "    if i % 100 == 0:\n",
    "        print(f\"Iteration: {i+1} of 1000\")\n",
    "    pois_spps.append(pois.simSPP(lambdaHom=lambda_hom))\n",
    "\n",
    "# Plot periodogram\n",
    "per = Periodogram(freq_min=-12, freq_max=11, freq_step=1)\n",
    "per.computeAveragePeriodogram(pois_spps)\n",
    "per.plot(average=True)"
   ]
  },
  {
   "cell_type": "markdown",
   "metadata": {},
   "source": [
    "## Thomas process"
   ]
  },
  {
   "cell_type": "code",
   "execution_count": 11,
   "metadata": {},
   "outputs": [
    {
     "name": "stdout",
     "output_type": "stream",
     "text": [
      "Simulating Thomas process...\n",
      "Iteration: 1 of 1000\n",
      "Iteration: 11 of 1000\n",
      "Iteration: 21 of 1000\n",
      "Iteration: 31 of 1000\n",
      "Iteration: 41 of 1000\n",
      "Iteration: 51 of 1000\n",
      "Iteration: 61 of 1000\n",
      "Iteration: 71 of 1000\n",
      "Iteration: 81 of 1000\n",
      "Iteration: 91 of 1000\n",
      "Iteration: 101 of 1000\n",
      "Iteration: 111 of 1000\n",
      "Iteration: 121 of 1000\n",
      "Iteration: 131 of 1000\n",
      "Iteration: 141 of 1000\n",
      "Iteration: 151 of 1000\n",
      "Iteration: 161 of 1000\n",
      "Iteration: 171 of 1000\n",
      "Iteration: 181 of 1000\n",
      "Iteration: 191 of 1000\n",
      "Iteration: 201 of 1000\n",
      "Iteration: 211 of 1000\n",
      "Iteration: 221 of 1000\n",
      "Iteration: 231 of 1000\n",
      "Iteration: 241 of 1000\n",
      "Iteration: 251 of 1000\n",
      "Iteration: 261 of 1000\n",
      "Iteration: 271 of 1000\n",
      "Iteration: 281 of 1000\n",
      "Iteration: 291 of 1000\n",
      "Iteration: 301 of 1000\n",
      "Iteration: 311 of 1000\n",
      "Iteration: 321 of 1000\n",
      "Iteration: 331 of 1000\n",
      "Iteration: 341 of 1000\n",
      "Iteration: 351 of 1000\n",
      "Iteration: 361 of 1000\n",
      "Iteration: 371 of 1000\n",
      "Iteration: 381 of 1000\n",
      "Iteration: 391 of 1000\n",
      "Iteration: 401 of 1000\n",
      "Iteration: 411 of 1000\n",
      "Iteration: 421 of 1000\n",
      "Iteration: 431 of 1000\n",
      "Iteration: 441 of 1000\n",
      "Iteration: 451 of 1000\n",
      "Iteration: 461 of 1000\n",
      "Iteration: 471 of 1000\n",
      "Iteration: 481 of 1000\n",
      "Iteration: 491 of 1000\n",
      "Iteration: 501 of 1000\n",
      "Iteration: 511 of 1000\n",
      "Iteration: 521 of 1000\n",
      "Iteration: 531 of 1000\n",
      "Iteration: 541 of 1000\n",
      "Iteration: 551 of 1000\n",
      "Iteration: 561 of 1000\n",
      "Iteration: 571 of 1000\n",
      "Iteration: 581 of 1000\n",
      "Iteration: 591 of 1000\n",
      "Iteration: 601 of 1000\n",
      "Iteration: 611 of 1000\n",
      "Iteration: 621 of 1000\n",
      "Iteration: 631 of 1000\n",
      "Iteration: 641 of 1000\n",
      "Iteration: 651 of 1000\n",
      "Iteration: 661 of 1000\n",
      "Iteration: 671 of 1000\n",
      "Iteration: 681 of 1000\n",
      "Iteration: 691 of 1000\n",
      "Iteration: 701 of 1000\n",
      "Iteration: 711 of 1000\n",
      "Iteration: 721 of 1000\n",
      "Iteration: 731 of 1000\n",
      "Iteration: 741 of 1000\n",
      "Iteration: 751 of 1000\n",
      "Iteration: 761 of 1000\n",
      "Iteration: 771 of 1000\n",
      "Iteration: 781 of 1000\n",
      "Iteration: 791 of 1000\n",
      "Iteration: 801 of 1000\n",
      "Iteration: 811 of 1000\n",
      "Iteration: 821 of 1000\n",
      "Iteration: 831 of 1000\n",
      "Iteration: 841 of 1000\n",
      "Iteration: 851 of 1000\n",
      "Iteration: 861 of 1000\n",
      "Iteration: 871 of 1000\n",
      "Iteration: 881 of 1000\n",
      "Iteration: 891 of 1000\n",
      "Iteration: 901 of 1000\n",
      "Iteration: 911 of 1000\n",
      "Iteration: 921 of 1000\n",
      "Iteration: 931 of 1000\n",
      "Iteration: 941 of 1000\n",
      "Iteration: 951 of 1000\n",
      "Iteration: 961 of 1000\n",
      "Iteration: 971 of 1000\n",
      "Iteration: 981 of 1000\n",
      "Iteration: 991 of 1000\n",
      "Computing periodograms...\n",
      "Iteration: 1 of 1000\n",
      "Iteration: 11 of 1000\n",
      "Iteration: 21 of 1000\n",
      "Iteration: 31 of 1000\n",
      "Iteration: 41 of 1000\n",
      "Iteration: 51 of 1000\n",
      "Iteration: 61 of 1000\n",
      "Iteration: 71 of 1000\n",
      "Iteration: 81 of 1000\n",
      "Iteration: 91 of 1000\n",
      "Iteration: 101 of 1000\n",
      "Iteration: 111 of 1000\n",
      "Iteration: 121 of 1000\n",
      "Iteration: 131 of 1000\n",
      "Iteration: 141 of 1000\n",
      "Iteration: 151 of 1000\n",
      "Iteration: 161 of 1000\n",
      "Iteration: 171 of 1000\n",
      "Iteration: 181 of 1000\n",
      "Iteration: 191 of 1000\n",
      "Iteration: 201 of 1000\n",
      "Iteration: 211 of 1000\n",
      "Iteration: 221 of 1000\n",
      "Iteration: 231 of 1000\n",
      "Iteration: 241 of 1000\n",
      "Iteration: 251 of 1000\n",
      "Iteration: 261 of 1000\n",
      "Iteration: 271 of 1000\n",
      "Iteration: 281 of 1000\n",
      "Iteration: 291 of 1000\n",
      "Iteration: 301 of 1000\n",
      "Iteration: 311 of 1000\n",
      "Iteration: 321 of 1000\n",
      "Iteration: 331 of 1000\n",
      "Iteration: 341 of 1000\n",
      "Iteration: 351 of 1000\n",
      "Iteration: 361 of 1000\n",
      "Iteration: 371 of 1000\n",
      "Iteration: 381 of 1000\n",
      "Iteration: 391 of 1000\n",
      "Iteration: 401 of 1000\n",
      "Iteration: 411 of 1000\n",
      "Iteration: 421 of 1000\n",
      "Iteration: 431 of 1000\n",
      "Iteration: 441 of 1000\n",
      "Iteration: 451 of 1000\n",
      "Iteration: 461 of 1000\n",
      "Iteration: 471 of 1000\n",
      "Iteration: 481 of 1000\n",
      "Iteration: 491 of 1000\n",
      "Iteration: 501 of 1000\n",
      "Iteration: 511 of 1000\n",
      "Iteration: 521 of 1000\n",
      "Iteration: 531 of 1000\n",
      "Iteration: 541 of 1000\n",
      "Iteration: 551 of 1000\n",
      "Iteration: 561 of 1000\n",
      "Iteration: 571 of 1000\n",
      "Iteration: 581 of 1000\n",
      "Iteration: 591 of 1000\n",
      "Iteration: 601 of 1000\n",
      "Iteration: 611 of 1000\n",
      "Iteration: 621 of 1000\n",
      "Iteration: 631 of 1000\n",
      "Iteration: 641 of 1000\n",
      "Iteration: 651 of 1000\n",
      "Iteration: 661 of 1000\n",
      "Iteration: 671 of 1000\n",
      "Iteration: 681 of 1000\n",
      "Iteration: 691 of 1000\n",
      "Iteration: 701 of 1000\n",
      "Iteration: 711 of 1000\n",
      "Iteration: 721 of 1000\n",
      "Iteration: 731 of 1000\n",
      "Iteration: 741 of 1000\n",
      "Iteration: 751 of 1000\n",
      "Iteration: 761 of 1000\n",
      "Iteration: 771 of 1000\n",
      "Iteration: 781 of 1000\n",
      "Iteration: 791 of 1000\n",
      "Iteration: 801 of 1000\n",
      "Iteration: 811 of 1000\n",
      "Iteration: 821 of 1000\n",
      "Iteration: 831 of 1000\n",
      "Iteration: 841 of 1000\n",
      "Iteration: 851 of 1000\n",
      "Iteration: 861 of 1000\n",
      "Iteration: 871 of 1000\n",
      "Iteration: 881 of 1000\n",
      "Iteration: 891 of 1000\n",
      "Iteration: 901 of 1000\n",
      "Iteration: 911 of 1000\n",
      "Iteration: 921 of 1000\n",
      "Iteration: 931 of 1000\n",
      "Iteration: 941 of 1000\n",
      "Iteration: 951 of 1000\n",
      "Iteration: 961 of 1000\n",
      "Iteration: 971 of 1000\n",
      "Iteration: 981 of 1000\n",
      "Iteration: 991 of 1000\n"
     ]
    },
    {
     "data": {
      "image/png": "[encoded data removed]",
      "text/plain": [
       "<Figure size 640x480 with 2 Axes>"
      ]
     },
     "metadata": {},
     "output_type": "display_data"
    }
   ],
   "source": [
    "# Thomas theoretical \n",
    "def thomas_theo(rho, K, sigma, p, q):\n",
    "    return rho * K * (1 + K * np.exp(-(p ** 2 + q ** 2) * (sigma ** 2)))\n",
    "\n",
    "# Instantiate Thomas process class (default on [-1/2,1/2]^2)\n",
    "thom = SPP_Thomas()\n",
    "\n",
    "# Simulate 100 realisations of the Thomas process\n",
    "N_runs = 1000\n",
    "thom_spps = []\n",
    "print(\"Simulating Thomas process...\")\n",
    "for i in range(N_runs):\n",
    "    if i % 10 == 0:\n",
    "        print(f\"Iteration: {i+1} of {N_runs}\")\n",
    "    thom_spps.append(thom.simSPP(rho=50, K=25, sigma=0.02, \n",
    "                                 cov=np.array([[1, 0], [0, 1]]), \n",
    "                                 enlarge=1.25))\n",
    "\n",
    "# Plot periodogram\n",
    "per = Periodogram(freq_min=-12, freq_max=11, freq_step=1/2)\n",
    "per.computeAveragePeriodogram(thom_spps, verbose=10)\n",
    "per.plot(average=True)\n"
   ]
  },
  {
   "cell_type": "markdown",
   "metadata": {},
   "source": [
    "## LGCP"
   ]
  },
  {
   "cell_type": "code",
   "execution_count": 16,
   "metadata": {},
   "outputs": [
    {
     "name": "stdout",
     "output_type": "stream",
     "text": [
      "Iteration: 1 of 100\n"
     ]
    },
    {
     "ename": "KeyboardInterrupt",
     "evalue": "",
     "output_type": "error",
     "traceback": [
      "\u001b[0;31m---------------------------------------------------------------------------\u001b[0m",
      "\u001b[0;31mKeyboardInterrupt\u001b[0m                         Traceback (most recent call last)",
      "Cell \u001b[0;32mIn[16], line 7\u001b[0m\n\u001b[1;32m      5\u001b[0m     \u001b[39mif\u001b[39;00m i \u001b[39m%\u001b[39m \u001b[39m10\u001b[39m \u001b[39m==\u001b[39m \u001b[39m0\u001b[39m:\n\u001b[1;32m      6\u001b[0m         \u001b[39mprint\u001b[39m(\u001b[39mf\u001b[39m\u001b[39m\"\u001b[39m\u001b[39mIteration: \u001b[39m\u001b[39m{\u001b[39;00mi\u001b[39m+\u001b[39m\u001b[39m1\u001b[39m\u001b[39m}\u001b[39;00m\u001b[39m of \u001b[39m\u001b[39m{\u001b[39;00mN_runs\u001b[39m}\u001b[39;00m\u001b[39m\"\u001b[39m)\n\u001b[0;32m----> 7\u001b[0m     lgcp_spps\u001b[39m.\u001b[39mappend(lgcp\u001b[39m.\u001b[39;49msimSPP(\n\u001b[1;32m      8\u001b[0m         Exponential, {\u001b[39m'\u001b[39;49m\u001b[39mdim\u001b[39;49m\u001b[39m'\u001b[39;49m: \u001b[39m2\u001b[39;49m, \u001b[39m'\u001b[39;49m\u001b[39mvar\u001b[39;49m\u001b[39m'\u001b[39;49m: \u001b[39m0.1\u001b[39;49m, \u001b[39m'\u001b[39;49m\u001b[39mlen_scale\u001b[39;49m\u001b[39m'\u001b[39;49m: \u001b[39m0.5\u001b[39;49m}, \u001b[39m4\u001b[39;49m)\n\u001b[1;32m      9\u001b[0m         )\n\u001b[1;32m     11\u001b[0m per \u001b[39m=\u001b[39m Periodogram(\u001b[39m-\u001b[39m\u001b[39m5\u001b[39m, \u001b[39m6\u001b[39m, \u001b[39m0.1\u001b[39m)\n\u001b[1;32m     13\u001b[0m per\u001b[39m.\u001b[39mcomputeAveragePeriodogram(lgcp_spps, verbose\u001b[39m=\u001b[39m\u001b[39m10\u001b[39m)\n",
      "File \u001b[0;32m~/Documents/Academic/Mini Projects/First Mini Project/Code/Spatial-Point-Processes/src/images/../../src/simulation_methods/spatial_pp.py:271\u001b[0m, in \u001b[0;36mSPP_LGCP.simSPP\u001b[0;34m(self, kernel, kernel_params, mean)\u001b[0m\n\u001b[1;32m    268\u001b[0m \u001b[39mfor\u001b[39;00m i, x_lat \u001b[39min\u001b[39;00m \u001b[39menumerate\u001b[39m(x):\n\u001b[1;32m    269\u001b[0m     \u001b[39mfor\u001b[39;00m j, y_lat \u001b[39min\u001b[39;00m \u001b[39menumerate\u001b[39m(y):\n\u001b[1;32m    270\u001b[0m         \u001b[39m# Sample from a Poisson distribution to get the number of points\u001b[39;00m\n\u001b[0;32m--> 271\u001b[0m         N_cell \u001b[39m=\u001b[39m ss\u001b[39m.\u001b[39;49mpoisson(mu\u001b[39m=\u001b[39;49mnp\u001b[39m.\u001b[39;49mexp(\u001b[39mself\u001b[39;49m\u001b[39m.\u001b[39;49mfield[i,j]) \u001b[39m*\u001b[39;49m cell_area)\u001b[39m.\u001b[39mrvs(\u001b[39m1\u001b[39m)\n\u001b[1;32m    273\u001b[0m         \u001b[39mif\u001b[39;00m N_cell \u001b[39m!=\u001b[39m \u001b[39m0\u001b[39m:\n\u001b[1;32m    274\u001b[0m             \u001b[39m# Uniformly distribute the points on the window\u001b[39;00m\n\u001b[1;32m    275\u001b[0m             xHom \u001b[39m=\u001b[39m np\u001b[39m.\u001b[39mrandom\u001b[39m.\u001b[39muniform(x_lat \u001b[39m-\u001b[39m \u001b[39mself\u001b[39m\u001b[39m.\u001b[39mstep_size\u001b[39m/\u001b[39m\u001b[39m2\u001b[39m,\n\u001b[1;32m    276\u001b[0m                             x_lat \u001b[39m+\u001b[39m \u001b[39mself\u001b[39m\u001b[39m.\u001b[39mstep_size\u001b[39m/\u001b[39m\u001b[39m2\u001b[39m, N_cell) \n",
      "File \u001b[0;32m~/Documents/Academic/Mini Projects/First Mini Project/Code/fmp_venv/lib/python3.10/site-packages/scipy/stats/_distn_infrastructure.py:865\u001b[0m, in \u001b[0;36mrv_generic.__call__\u001b[0;34m(self, *args, **kwds)\u001b[0m\n\u001b[1;32m    864\u001b[0m \u001b[39mdef\u001b[39;00m \u001b[39m__call__\u001b[39m(\u001b[39mself\u001b[39m, \u001b[39m*\u001b[39margs, \u001b[39m*\u001b[39m\u001b[39m*\u001b[39mkwds):\n\u001b[0;32m--> 865\u001b[0m     \u001b[39mreturn\u001b[39;00m \u001b[39mself\u001b[39;49m\u001b[39m.\u001b[39;49mfreeze(\u001b[39m*\u001b[39;49margs, \u001b[39m*\u001b[39;49m\u001b[39m*\u001b[39;49mkwds)\n",
      "File \u001b[0;32m~/Documents/Academic/Mini Projects/First Mini Project/Code/fmp_venv/lib/python3.10/site-packages/scipy/stats/_distn_infrastructure.py:862\u001b[0m, in \u001b[0;36mrv_generic.freeze\u001b[0;34m(self, *args, **kwds)\u001b[0m\n\u001b[1;32m    847\u001b[0m \u001b[39mdef\u001b[39;00m \u001b[39mfreeze\u001b[39m(\u001b[39mself\u001b[39m, \u001b[39m*\u001b[39margs, \u001b[39m*\u001b[39m\u001b[39m*\u001b[39mkwds):\n\u001b[1;32m    848\u001b[0m \u001b[39m    \u001b[39m\u001b[39m\"\"\"Freeze the distribution for the given arguments.\u001b[39;00m\n\u001b[1;32m    849\u001b[0m \n\u001b[1;32m    850\u001b[0m \u001b[39m    Parameters\u001b[39;00m\n\u001b[0;32m   (...)\u001b[0m\n\u001b[1;32m    860\u001b[0m \n\u001b[1;32m    861\u001b[0m \u001b[39m    \"\"\"\u001b[39;00m\n\u001b[0;32m--> 862\u001b[0m     \u001b[39mreturn\u001b[39;00m rv_frozen(\u001b[39mself\u001b[39;49m, \u001b[39m*\u001b[39;49margs, \u001b[39m*\u001b[39;49m\u001b[39m*\u001b[39;49mkwds)\n",
      "File \u001b[0;32m~/Documents/Academic/Mini Projects/First Mini Project/Code/fmp_venv/lib/python3.10/site-packages/scipy/stats/_distn_infrastructure.py:439\u001b[0m, in \u001b[0;36mrv_frozen.__init__\u001b[0;34m(self, dist, *args, **kwds)\u001b[0m\n\u001b[1;32m    436\u001b[0m \u001b[39mself\u001b[39m\u001b[39m.\u001b[39mkwds \u001b[39m=\u001b[39m kwds\n\u001b[1;32m    438\u001b[0m \u001b[39m# create a new instance\u001b[39;00m\n\u001b[0;32m--> 439\u001b[0m \u001b[39mself\u001b[39m\u001b[39m.\u001b[39mdist \u001b[39m=\u001b[39m dist\u001b[39m.\u001b[39;49m\u001b[39m__class__\u001b[39;49m(\u001b[39m*\u001b[39;49m\u001b[39m*\u001b[39;49mdist\u001b[39m.\u001b[39;49m_updated_ctor_param())\n\u001b[1;32m    441\u001b[0m shapes, _, _ \u001b[39m=\u001b[39m \u001b[39mself\u001b[39m\u001b[39m.\u001b[39mdist\u001b[39m.\u001b[39m_parse_args(\u001b[39m*\u001b[39margs, \u001b[39m*\u001b[39m\u001b[39m*\u001b[39mkwds)\n\u001b[1;32m    442\u001b[0m \u001b[39mself\u001b[39m\u001b[39m.\u001b[39ma, \u001b[39mself\u001b[39m\u001b[39m.\u001b[39mb \u001b[39m=\u001b[39m \u001b[39mself\u001b[39m\u001b[39m.\u001b[39mdist\u001b[39m.\u001b[39m_get_support(\u001b[39m*\u001b[39mshapes)\n",
      "File \u001b[0;32m~/Documents/Academic/Mini Projects/First Mini Project/Code/fmp_venv/lib/python3.10/site-packages/scipy/stats/_distn_infrastructure.py:2988\u001b[0m, in \u001b[0;36mrv_discrete.__init__\u001b[0;34m(self, a, b, name, badvalue, moment_tol, values, inc, longname, shapes, extradoc, seed)\u001b[0m\n\u001b[1;32m   2983\u001b[0m \u001b[39mself\u001b[39m\u001b[39m.\u001b[39m_construct_argparser(meths_to_inspect\u001b[39m=\u001b[39m[\u001b[39mself\u001b[39m\u001b[39m.\u001b[39m_pmf, \u001b[39mself\u001b[39m\u001b[39m.\u001b[39m_cdf],\n\u001b[1;32m   2984\u001b[0m                           locscale_in\u001b[39m=\u001b[39m\u001b[39m'\u001b[39m\u001b[39mloc=0\u001b[39m\u001b[39m'\u001b[39m,\n\u001b[1;32m   2985\u001b[0m                           \u001b[39m# scale=1 for discrete RVs\u001b[39;00m\n\u001b[1;32m   2986\u001b[0m                           locscale_out\u001b[39m=\u001b[39m\u001b[39m'\u001b[39m\u001b[39mloc, 1\u001b[39m\u001b[39m'\u001b[39m)\n\u001b[1;32m   2987\u001b[0m \u001b[39mself\u001b[39m\u001b[39m.\u001b[39m_attach_methods()\n\u001b[0;32m-> 2988\u001b[0m \u001b[39mself\u001b[39;49m\u001b[39m.\u001b[39;49m_construct_docstrings(name, longname, extradoc)\n",
      "File \u001b[0;32m~/Documents/Academic/Mini Projects/First Mini Project/Code/fmp_venv/lib/python3.10/site-packages/scipy/stats/_distn_infrastructure.py:3043\u001b[0m, in \u001b[0;36mrv_discrete._construct_docstrings\u001b[0;34m(self, name, longname, extradoc)\u001b[0m\n\u001b[1;32m   3041\u001b[0m \u001b[39melse\u001b[39;00m:\n\u001b[1;32m   3042\u001b[0m     dct \u001b[39m=\u001b[39m \u001b[39mdict\u001b[39m(distdiscrete)\n\u001b[0;32m-> 3043\u001b[0m     \u001b[39mself\u001b[39;49m\u001b[39m.\u001b[39;49m_construct_doc(docdict_discrete, dct\u001b[39m.\u001b[39;49mget(\u001b[39mself\u001b[39;49m\u001b[39m.\u001b[39;49mname))\n\u001b[1;32m   3045\u001b[0m \u001b[39m# discrete RV do not have the scale parameter, remove it\u001b[39;00m\n\u001b[1;32m   3046\u001b[0m \u001b[39mself\u001b[39m\u001b[39m.\u001b[39m\u001b[39m__doc__\u001b[39m \u001b[39m=\u001b[39m \u001b[39mself\u001b[39m\u001b[39m.\u001b[39m\u001b[39m__doc__\u001b[39m\u001b[39m.\u001b[39mreplace(\n\u001b[1;32m   3047\u001b[0m     \u001b[39m'\u001b[39m\u001b[39m\\n\u001b[39;00m\u001b[39m    scale : array_like, \u001b[39m\u001b[39m'\u001b[39m\n\u001b[1;32m   3048\u001b[0m     \u001b[39m'\u001b[39m\u001b[39moptional\u001b[39m\u001b[39m\\n\u001b[39;00m\u001b[39m        scale parameter (default=1)\u001b[39m\u001b[39m'\u001b[39m, \u001b[39m'\u001b[39m\u001b[39m'\u001b[39m)\n",
      "File \u001b[0;32m~/Documents/Academic/Mini Projects/First Mini Project/Code/fmp_venv/lib/python3.10/site-packages/scipy/stats/_distn_infrastructure.py:824\u001b[0m, in \u001b[0;36mrv_generic._construct_doc\u001b[0;34m(self, docdict, shapes_vals)\u001b[0m\n\u001b[1;32m    822\u001b[0m     \u001b[39mself\u001b[39m\u001b[39m.\u001b[39m\u001b[39m__doc__\u001b[39m \u001b[39m=\u001b[39m \u001b[39mself\u001b[39m\u001b[39m.\u001b[39m\u001b[39m__doc__\u001b[39m\u001b[39m.\u001b[39mreplace(\u001b[39m\"\u001b[39m\u001b[39m%(shapes)s\u001b[39;00m\u001b[39m, \u001b[39m\u001b[39m\"\u001b[39m, \u001b[39m\"\u001b[39m\u001b[39m\"\u001b[39m)\n\u001b[1;32m    823\u001b[0m \u001b[39mtry\u001b[39;00m:\n\u001b[0;32m--> 824\u001b[0m     \u001b[39mself\u001b[39m\u001b[39m.\u001b[39m\u001b[39m__doc__\u001b[39m \u001b[39m=\u001b[39m doccer\u001b[39m.\u001b[39;49mdocformat(\u001b[39mself\u001b[39;49m\u001b[39m.\u001b[39;49m\u001b[39m__doc__\u001b[39;49m, tempdict)\n\u001b[1;32m    825\u001b[0m \u001b[39mexcept\u001b[39;00m \u001b[39mTypeError\u001b[39;00m \u001b[39mas\u001b[39;00m e:\n\u001b[1;32m    826\u001b[0m     \u001b[39mraise\u001b[39;00m \u001b[39mException\u001b[39;00m(\u001b[39m\"\u001b[39m\u001b[39mUnable to construct docstring for \u001b[39m\u001b[39m\"\u001b[39m\n\u001b[1;32m    827\u001b[0m                     \u001b[39m\"\u001b[39m\u001b[39mdistribution \u001b[39m\u001b[39m\\\"\u001b[39;00m\u001b[39m%s\u001b[39;00m\u001b[39m\\\"\u001b[39;00m\u001b[39m: \u001b[39m\u001b[39m%s\u001b[39;00m\u001b[39m\"\u001b[39m \u001b[39m%\u001b[39m\n\u001b[1;32m    828\u001b[0m                     (\u001b[39mself\u001b[39m\u001b[39m.\u001b[39mname, \u001b[39mrepr\u001b[39m(e))) \u001b[39mfrom\u001b[39;00m \u001b[39me\u001b[39;00m\n",
      "File \u001b[0;32m~/Documents/Academic/Mini Projects/First Mini Project/Code/fmp_venv/lib/python3.10/site-packages/scipy/_lib/doccer.py:62\u001b[0m, in \u001b[0;36mdocformat\u001b[0;34m(docstring, docdict)\u001b[0m\n\u001b[1;32m     60\u001b[0m     newlines \u001b[39m=\u001b[39m [lines[\u001b[39m0\u001b[39m]]\n\u001b[1;32m     61\u001b[0m     \u001b[39mfor\u001b[39;00m line \u001b[39min\u001b[39;00m lines[\u001b[39m1\u001b[39m:]:\n\u001b[0;32m---> 62\u001b[0m         newlines\u001b[39m.\u001b[39;49mappend(indent\u001b[39m+\u001b[39;49mline)\n\u001b[1;32m     63\u001b[0m     indented[name] \u001b[39m=\u001b[39m \u001b[39m'\u001b[39m\u001b[39m\\n\u001b[39;00m\u001b[39m'\u001b[39m\u001b[39m.\u001b[39mjoin(newlines)\n\u001b[1;32m     64\u001b[0m \u001b[39mexcept\u001b[39;00m \u001b[39mIndexError\u001b[39;00m:\n",
      "\u001b[0;31mKeyboardInterrupt\u001b[0m: "
     ]
    }
   ],
   "source": [
    "lgcp = SPP_LGCP(step_size=0.02)\n",
    "lgcp_spps = []\n",
    "N_runs = 100\n",
    "for i in range(N_runs):\n",
    "    if i % 10 == 0:\n",
    "        print(f\"Iteration: {i+1} of {N_runs}\")\n",
    "    lgcp_spps.append(lgcp.simSPP(\n",
    "        Exponential, {'dim': 2, 'var': 0.1, 'len_scale': 0.5}, 4)\n",
    "        )\n",
    "    \n",
    "per = Periodogram(freq_min=-5, freq_max=6, freq_step=0.1)\n",
    "\n",
    "per.computeAveragePeriodogram(lgcp_spps, verbose=10)\n",
    "per.plot(average=False)"
   ]
  },
  {
   "cell_type": "markdown",
   "metadata": {},
   "source": [
    "# Periodogram plots - <font color='red'>tapered </font> "
   ]
  },
  {
   "cell_type": "markdown",
   "metadata": {},
   "source": [
    "## Poisson process"
   ]
  },
  {
   "cell_type": "markdown",
   "metadata": {},
   "source": [
    "## Thomas process"
   ]
  },
  {
   "cell_type": "markdown",
   "metadata": {},
   "source": [
    "## LGCP"
   ]
  }
 ],
 "metadata": {
  "kernelspec": {
   "display_name": "fmp_venv",
   "language": "python",
   "name": "python3"
  },
  "language_info": {
   "codemirror_mode": {
    "name": "ipython",
    "version": 3
   },
   "file_extension": ".py",
   "mimetype": "text/x-python",
   "name": "python",
   "nbconvert_exporter": "python",
   "pygments_lexer": "ipython3",
   "version": "3.10.12"
  },
  "orig_nbformat": 4
 },
 "nbformat": 4,
 "nbformat_minor": 2
}
